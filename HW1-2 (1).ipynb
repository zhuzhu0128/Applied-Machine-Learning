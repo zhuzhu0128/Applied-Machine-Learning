{
 "cells": [
  {
   "cell_type": "code",
   "execution_count": 204,
   "metadata": {},
   "outputs": [
    {
     "name": "stdout",
     "output_type": "stream",
     "text": [
      "(891, 12)\n"
     ]
    }
   ],
   "source": [
    "import numpy as np\n",
    "import pandas as pd\n",
    "import matplotlib.pyplot as plt\n",
    "from sklearn.linear_model import LogisticRegression\n",
    "from sklearn import cross_validation, preprocessing\n",
    "df = pd.read_csv('/Users/yingzhu/Desktop/train1.csv')\n",
    "print(df.shape)"
   ]
  },
  {
   "cell_type": "code",
   "execution_count": 205,
   "metadata": {},
   "outputs": [
    {
     "name": "stdout",
     "output_type": "stream",
     "text": [
      "(891, 5)\n"
     ]
    }
   ],
   "source": [
    "# delete the features has little influence on survivial \n",
    "Y=df.Survived\n",
    "df=df.drop(['PassengerId','Pclass','Survived','Name','Ticket','Embarked','Cabin'],axis=1)\n",
    "print(df.shape)"
   ]
  },
  {
   "cell_type": "code",
   "execution_count": 206,
   "metadata": {},
   "outputs": [],
   "source": [
    "# change gender to int\n",
    "df.Sex.replace('female',0,inplace=True)\n",
    "df.Sex.replace('male',1,inplace=True)"
   ]
  },
  {
   "cell_type": "code",
   "execution_count": 207,
   "metadata": {},
   "outputs": [
    {
     "name": "stdout",
     "output_type": "stream",
     "text": [
      "   Sex        Age  SibSp  Parch     Fare\n",
      "0    1  22.000000      1      0   7.2500\n",
      "1    0  38.000000      1      0  71.2833\n",
      "2    0  26.000000      0      0   7.9250\n",
      "3    0  35.000000      1      0  53.1000\n",
      "4    1  35.000000      0      0   8.0500\n",
      "5    1  29.699118      0      0   8.4583\n",
      "6    1  54.000000      0      0  51.8625\n",
      "7    1   2.000000      3      1  21.0750\n",
      "8    0  27.000000      0      2  11.1333\n",
      "9    0  14.000000      1      0  30.0708\n",
      "0    1\n",
      "1    0\n",
      "2    0\n",
      "3    0\n",
      "Name: Sex, dtype: int64\n",
      "   Sex        Age  SibSp  Parch     Fare\n",
      "0    1  22.000000      1      0   7.2500\n",
      "1    0  38.000000      1      0  71.2833\n",
      "2    0  26.000000      0      0   7.9250\n",
      "3    0  35.000000      1      0  53.1000\n",
      "4    1  35.000000      0      0   8.0500\n",
      "5    1  29.699118      0      0   8.4583\n",
      "6    1  54.000000      0      0  51.8625\n",
      "7    1   2.000000      3      1  21.0750\n",
      "8    0  27.000000      0      2  11.1333\n",
      "9    0  14.000000      1      0  30.0708\n"
     ]
    }
   ],
   "source": [
    "# fill the missing number in Age with mean\n",
    "for col in df:\n",
    "    df[col].fillna(np.mean(df[col]),inplace=True)"
   ]
  },
  {
   "cell_type": "code",
   "execution_count": 142,
   "metadata": {},
   "outputs": [
    {
     "name": "stdout",
     "output_type": "stream",
     "text": [
      "Sex        1.0000\n",
      "Age       79.5800\n",
      "SibSp      8.0000\n",
      "Parch      6.0000\n",
      "Fare     512.3292\n",
      "dtype: float64\n"
     ]
    }
   ],
   "source": [
    "# scalar transfer\n",
    "print(df.max() - df.min())"
   ]
  },
  {
   "cell_type": "code",
   "execution_count": 208,
   "metadata": {},
   "outputs": [
    {
     "name": "stdout",
     "output_type": "stream",
     "text": [
      "   Sex       Age     SibSp     Parch      Fare\n",
      "0    1 -0.592481  0.432793 -0.473674 -0.502445\n",
      "1    0  0.638789  0.432793 -0.473674  0.786845\n",
      "2    0 -0.284663 -0.474545 -0.473674 -0.488854\n",
      "3    0  0.407926  0.432793 -0.473674  0.420730\n",
      "4    1  0.407926 -0.474545 -0.473674 -0.486337\n",
      "5    1  0.000000 -0.474545 -0.473674 -0.478116\n",
      "6    1  1.870059 -0.474545 -0.473674  0.395814\n",
      "7    1 -2.131568  2.247470  0.767630 -0.224083\n",
      "8    0 -0.207709 -0.474545  2.008933 -0.424256\n",
      "9    0 -1.208115  0.432793 -0.473674 -0.042956\n"
     ]
    },
    {
     "name": "stderr",
     "output_type": "stream",
     "text": [
      "/Users/yingzhu/anaconda/lib/python3.6/site-packages/sklearn/preprocessing/data.py:586: DeprecationWarning: Passing 1d arrays as data is deprecated in 0.17 and will raise ValueError in 0.19. Reshape your data either using X.reshape(-1, 1) if your data has a single feature or X.reshape(1, -1) if it contains a single sample.\n",
      "  warnings.warn(DEPRECATION_MSG_1D, DeprecationWarning)\n",
      "/Users/yingzhu/anaconda/lib/python3.6/site-packages/sklearn/preprocessing/data.py:649: DeprecationWarning: Passing 1d arrays as data is deprecated in 0.17 and will raise ValueError in 0.19. Reshape your data either using X.reshape(-1, 1) if your data has a single feature or X.reshape(1, -1) if it contains a single sample.\n",
      "  warnings.warn(DEPRECATION_MSG_1D, DeprecationWarning)\n",
      "/Users/yingzhu/anaconda/lib/python3.6/site-packages/sklearn/utils/validation.py:429: DataConversionWarning: Data with input dtype int64 was converted to float64 by StandardScaler.\n",
      "  warnings.warn(msg, _DataConversionWarning)\n",
      "/Users/yingzhu/anaconda/lib/python3.6/site-packages/sklearn/preprocessing/data.py:586: DeprecationWarning: Passing 1d arrays as data is deprecated in 0.17 and will raise ValueError in 0.19. Reshape your data either using X.reshape(-1, 1) if your data has a single feature or X.reshape(1, -1) if it contains a single sample.\n",
      "  warnings.warn(DEPRECATION_MSG_1D, DeprecationWarning)\n",
      "/Users/yingzhu/anaconda/lib/python3.6/site-packages/sklearn/preprocessing/data.py:649: DeprecationWarning: Passing 1d arrays as data is deprecated in 0.17 and will raise ValueError in 0.19. Reshape your data either using X.reshape(-1, 1) if your data has a single feature or X.reshape(1, -1) if it contains a single sample.\n",
      "  warnings.warn(DEPRECATION_MSG_1D, DeprecationWarning)\n",
      "/Users/yingzhu/anaconda/lib/python3.6/site-packages/sklearn/preprocessing/data.py:586: DeprecationWarning: Passing 1d arrays as data is deprecated in 0.17 and will raise ValueError in 0.19. Reshape your data either using X.reshape(-1, 1) if your data has a single feature or X.reshape(1, -1) if it contains a single sample.\n",
      "  warnings.warn(DEPRECATION_MSG_1D, DeprecationWarning)\n",
      "/Users/yingzhu/anaconda/lib/python3.6/site-packages/sklearn/preprocessing/data.py:649: DeprecationWarning: Passing 1d arrays as data is deprecated in 0.17 and will raise ValueError in 0.19. Reshape your data either using X.reshape(-1, 1) if your data has a single feature or X.reshape(1, -1) if it contains a single sample.\n",
      "  warnings.warn(DEPRECATION_MSG_1D, DeprecationWarning)\n",
      "/Users/yingzhu/anaconda/lib/python3.6/site-packages/sklearn/preprocessing/data.py:586: DeprecationWarning: Passing 1d arrays as data is deprecated in 0.17 and will raise ValueError in 0.19. Reshape your data either using X.reshape(-1, 1) if your data has a single feature or X.reshape(1, -1) if it contains a single sample.\n",
      "  warnings.warn(DEPRECATION_MSG_1D, DeprecationWarning)\n",
      "/Users/yingzhu/anaconda/lib/python3.6/site-packages/sklearn/preprocessing/data.py:649: DeprecationWarning: Passing 1d arrays as data is deprecated in 0.17 and will raise ValueError in 0.19. Reshape your data either using X.reshape(-1, 1) if your data has a single feature or X.reshape(1, -1) if it contains a single sample.\n",
      "  warnings.warn(DEPRECATION_MSG_1D, DeprecationWarning)\n"
     ]
    }
   ],
   "source": [
    "scaler1= preprocessing.StandardScaler().fit(df['Fare'])\n",
    "df['Fare'] = scaler1.transform(df['Fare'])\n",
    "scaler2= preprocessing.StandardScaler().fit(df['Parch'])\n",
    "df['Parch'] = scaler2.transform(df['Parch'])\n",
    "scaler3= preprocessing.StandardScaler().fit(df['SibSp'])\n",
    "df['SibSp'] = scaler3.transform(df['SibSp'])\n",
    "scaler4= preprocessing.StandardScaler().fit(df['Age'])\n",
    "df['Age'] = scaler4.transform(df['Age'])\n",
    "print(df.head(10))"
   ]
  },
  {
   "cell_type": "code",
   "execution_count": 209,
   "metadata": {},
   "outputs": [
    {
     "name": "stdout",
     "output_type": "stream",
     "text": [
      "['Sex', 'Age', 'SibSp', 'Parch', 'Fare']\n"
     ]
    }
   ],
   "source": [
    "col_selected = df.columns.values.tolist()\n",
    "print(col_selected)"
   ]
  },
  {
   "cell_type": "code",
   "execution_count": 210,
   "metadata": {},
   "outputs": [
    {
     "name": "stdout",
     "output_type": "stream",
     "text": [
      "[0.7988826815642458, 0.8033707865168539, 0.7584269662921348, 0.7471910112359551, 0.8314606741573034]\n",
      "0.787866423953\n"
     ]
    }
   ],
   "source": [
    "# run logistic regression\n",
    "X=df[col_selected].values[:,0:]\n",
    "accu=[]\n",
    "for train_indices, test_indices in cross_validation.KFold(len(X),n_folds=5):\n",
    "    X_train = X[train_indices]\n",
    "    Y_train = Y[train_indices]\n",
    "    X_test = X[test_indices]\n",
    "    Y_test = Y[test_indices]\n",
    "    ls = LogisticRegression()\n",
    "    ls.fit(X_train,Y_train)\n",
    "    accu.append(ls.score(X_test,Y_test))\n",
    "print(accu)\n",
    "print(np.mean(accu))"
   ]
  },
  {
   "cell_type": "code",
   "execution_count": 211,
   "metadata": {},
   "outputs": [],
   "source": [
    "#Train your classifier using all of the training data, and test it using the testing data. Submit\n",
    "#your results to Kaggle.\n",
    "# scaling data\n",
    "import numpy\n",
    "test_data = pd.read_csv('/Users/yingzhu/Desktop/test1.csv')\n",
    "Passenger_Id = test_data.PassengerId"
   ]
  },
  {
   "cell_type": "code",
   "execution_count": 212,
   "metadata": {},
   "outputs": [],
   "source": [
    "test_data=test_data.drop(['PassengerId','Pclass','Name','Ticket','Embarked','Cabin'],axis=1)\n",
    "test_data.Sex.replace('female',0,inplace=True)\n",
    "test_data.Sex.replace('male',1,inplace=True)"
   ]
  },
  {
   "cell_type": "code",
   "execution_count": 213,
   "metadata": {},
   "outputs": [],
   "source": [
    "for col in test_data:\n",
    "    test_data[col].fillna(np.mean(test_data[col]),inplace=True)"
   ]
  },
  {
   "cell_type": "code",
   "execution_count": 214,
   "metadata": {},
   "outputs": [
    {
     "name": "stderr",
     "output_type": "stream",
     "text": [
      "/Users/yingzhu/anaconda/lib/python3.6/site-packages/sklearn/preprocessing/data.py:586: DeprecationWarning: Passing 1d arrays as data is deprecated in 0.17 and will raise ValueError in 0.19. Reshape your data either using X.reshape(-1, 1) if your data has a single feature or X.reshape(1, -1) if it contains a single sample.\n",
      "  warnings.warn(DEPRECATION_MSG_1D, DeprecationWarning)\n",
      "/Users/yingzhu/anaconda/lib/python3.6/site-packages/sklearn/preprocessing/data.py:649: DeprecationWarning: Passing 1d arrays as data is deprecated in 0.17 and will raise ValueError in 0.19. Reshape your data either using X.reshape(-1, 1) if your data has a single feature or X.reshape(1, -1) if it contains a single sample.\n",
      "  warnings.warn(DEPRECATION_MSG_1D, DeprecationWarning)\n",
      "/Users/yingzhu/anaconda/lib/python3.6/site-packages/sklearn/utils/validation.py:429: DataConversionWarning: Data with input dtype int64 was converted to float64 by StandardScaler.\n",
      "  warnings.warn(msg, _DataConversionWarning)\n",
      "/Users/yingzhu/anaconda/lib/python3.6/site-packages/sklearn/preprocessing/data.py:586: DeprecationWarning: Passing 1d arrays as data is deprecated in 0.17 and will raise ValueError in 0.19. Reshape your data either using X.reshape(-1, 1) if your data has a single feature or X.reshape(1, -1) if it contains a single sample.\n",
      "  warnings.warn(DEPRECATION_MSG_1D, DeprecationWarning)\n",
      "/Users/yingzhu/anaconda/lib/python3.6/site-packages/sklearn/preprocessing/data.py:649: DeprecationWarning: Passing 1d arrays as data is deprecated in 0.17 and will raise ValueError in 0.19. Reshape your data either using X.reshape(-1, 1) if your data has a single feature or X.reshape(1, -1) if it contains a single sample.\n",
      "  warnings.warn(DEPRECATION_MSG_1D, DeprecationWarning)\n",
      "/Users/yingzhu/anaconda/lib/python3.6/site-packages/sklearn/preprocessing/data.py:586: DeprecationWarning: Passing 1d arrays as data is deprecated in 0.17 and will raise ValueError in 0.19. Reshape your data either using X.reshape(-1, 1) if your data has a single feature or X.reshape(1, -1) if it contains a single sample.\n",
      "  warnings.warn(DEPRECATION_MSG_1D, DeprecationWarning)\n",
      "/Users/yingzhu/anaconda/lib/python3.6/site-packages/sklearn/preprocessing/data.py:649: DeprecationWarning: Passing 1d arrays as data is deprecated in 0.17 and will raise ValueError in 0.19. Reshape your data either using X.reshape(-1, 1) if your data has a single feature or X.reshape(1, -1) if it contains a single sample.\n",
      "  warnings.warn(DEPRECATION_MSG_1D, DeprecationWarning)\n",
      "/Users/yingzhu/anaconda/lib/python3.6/site-packages/sklearn/preprocessing/data.py:586: DeprecationWarning: Passing 1d arrays as data is deprecated in 0.17 and will raise ValueError in 0.19. Reshape your data either using X.reshape(-1, 1) if your data has a single feature or X.reshape(1, -1) if it contains a single sample.\n",
      "  warnings.warn(DEPRECATION_MSG_1D, DeprecationWarning)\n",
      "/Users/yingzhu/anaconda/lib/python3.6/site-packages/sklearn/preprocessing/data.py:649: DeprecationWarning: Passing 1d arrays as data is deprecated in 0.17 and will raise ValueError in 0.19. Reshape your data either using X.reshape(-1, 1) if your data has a single feature or X.reshape(1, -1) if it contains a single sample.\n",
      "  warnings.warn(DEPRECATION_MSG_1D, DeprecationWarning)\n"
     ]
    }
   ],
   "source": [
    "scaler11= preprocessing.StandardScaler().fit(test_data['Fare'])\n",
    "test_data['Fare'] = scaler11.transform(test_data['Fare'])\n",
    "scaler22= preprocessing.StandardScaler().fit(test_data['Parch'])\n",
    "test_data['Parch'] = scaler22.transform(test_data['Parch'])\n",
    "scaler33= preprocessing.StandardScaler().fit(test_data['SibSp'])\n",
    "test_data['SibSp'] = scaler33.transform(test_data['SibSp'])\n",
    "scaler44= preprocessing.StandardScaler().fit(test_data['Age'])\n",
    "test_data['Age'] = scaler44.transform(test_data['Age'])"
   ]
  },
  {
   "cell_type": "code",
   "execution_count": 215,
   "metadata": {},
   "outputs": [],
   "source": [
    "import pandas as pd\n",
    "y_hat_test = ls.fit(X,Y).predict(test_data)\n",
    "y_hat_res=pd.DataFrame(y_hat_test)\n",
    "y_hat_res.to_csv('/Users/yingzhu/Desktop/test1_res.csv', index=False, header=False)"
   ]
  },
  {
   "cell_type": "code",
   "execution_count": null,
   "metadata": {
    "collapsed": true
   },
   "outputs": [],
   "source": []
  }
 ],
 "metadata": {
  "kernelspec": {
   "display_name": "Python 3",
   "language": "python",
   "name": "python3"
  },
  "language_info": {
   "codemirror_mode": {
    "name": "ipython",
    "version": 3
   },
   "file_extension": ".py",
   "mimetype": "text/x-python",
   "name": "python",
   "nbconvert_exporter": "python",
   "pygments_lexer": "ipython3",
   "version": "3.6.1"
  }
 },
 "nbformat": 4,
 "nbformat_minor": 2
}
