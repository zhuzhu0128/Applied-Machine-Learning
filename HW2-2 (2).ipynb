{
 "cells": [
  {
   "cell_type": "code",
   "execution_count": 1,
   "metadata": {
    "collapsed": true
   },
   "outputs": [],
   "source": [
    "# 1.(a) load the data \n",
    "import json\n",
    "import pandas as pd\n",
    "with open('/Users/yingzhu/Desktop/train.json') as json_train:\n",
    "    train_data = json.load(json_train)\n",
    "with open('/Users/yingzhu/Desktop/test.json') as json_test:    \n",
    "    test_data = json.load(json_test)"
   ]
  },
  {
   "cell_type": "code",
   "execution_count": 10,
   "metadata": {},
   "outputs": [
    {
     "name": "stdout",
     "output_type": "stream",
     "text": [
      "(39774, 3)\n",
      "(9944, 2)\n"
     ]
    }
   ],
   "source": [
    "import numpy as np\n",
    "train = pd.DataFrame(train_data)\n",
    "test = pd.DataFrame(test_data)\n",
    "print(train.shape)\n",
    "print(test.shape)"
   ]
  },
  {
   "cell_type": "code",
   "execution_count": 59,
   "metadata": {},
   "outputs": [
    {
     "name": "stdout",
     "output_type": "stream",
     "text": [
      "italian         7838\n",
      "mexican         6438\n",
      "southern_us     4320\n",
      "indian          3003\n",
      "chinese         2673\n",
      "french          2646\n",
      "cajun_creole    1546\n",
      "thai            1539\n",
      "japanese        1423\n",
      "greek           1175\n",
      "spanish          989\n",
      "korean           830\n",
      "vietnamese       825\n",
      "moroccan         821\n",
      "british          804\n",
      "filipino         755\n",
      "irish            667\n",
      "jamaican         526\n",
      "russian          489\n",
      "brazilian        467\n",
      "Name: cuisine, dtype: int64\n",
      "20\n"
     ]
    }
   ],
   "source": [
    "# 1.(b) How many categories(types of cuisine)?\n",
    "type_cuisine = train['cuisine'].value_counts()\n",
    "print(type_cuisine)\n",
    "print(len(type_cuisine))"
   ]
  },
  {
   "cell_type": "code",
   "execution_count": 4,
   "metadata": {
    "collapsed": true
   },
   "outputs": [],
   "source": [
    "# 1.(c) Represent each dish by a binary ingredient feature vector\n",
    "ingredient_matrix = train['ingredients'].str.join(sep='*').str.get_dummies(sep='*')"
   ]
  },
  {
   "cell_type": "code",
   "execution_count": 5,
   "metadata": {},
   "outputs": [
    {
     "name": "stdout",
     "output_type": "stream",
     "text": [
      "(39774, 6714)\n"
     ]
    },
    {
     "data": {
      "text/html": [
       "<div>\n",
       "<style>\n",
       "    .dataframe thead tr:only-child th {\n",
       "        text-align: right;\n",
       "    }\n",
       "\n",
       "    .dataframe thead th {\n",
       "        text-align: left;\n",
       "    }\n",
       "\n",
       "    .dataframe tbody tr th {\n",
       "        vertical-align: top;\n",
       "    }\n",
       "</style>\n",
       "<table border=\"1\" class=\"dataframe\">\n",
       "  <thead>\n",
       "    <tr style=\"text-align: right;\">\n",
       "      <th></th>\n",
       "      <th>(    oz.) tomato sauce</th>\n",
       "      <th>(   oz.) tomato paste</th>\n",
       "      <th>(10 oz.) frozen chopped spinach</th>\n",
       "      <th>(10 oz.) frozen chopped spinach, thawed and squeezed dry</th>\n",
       "      <th>(14 oz.) sweetened condensed milk</th>\n",
       "      <th>(14.5 oz.) diced tomatoes</th>\n",
       "      <th>(15 oz.) refried beans</th>\n",
       "      <th>1% low-fat buttermilk</th>\n",
       "      <th>1% low-fat chocolate milk</th>\n",
       "      <th>1% low-fat cottage cheese</th>\n",
       "      <th>...</th>\n",
       "      <th>yukon gold potatoes</th>\n",
       "      <th>yuzu</th>\n",
       "      <th>yuzu juice</th>\n",
       "      <th>za'atar</th>\n",
       "      <th>zest</th>\n",
       "      <th>zesty italian dressing</th>\n",
       "      <th>zinfandel</th>\n",
       "      <th>ziti</th>\n",
       "      <th>zucchini</th>\n",
       "      <th>zucchini blossoms</th>\n",
       "    </tr>\n",
       "  </thead>\n",
       "  <tbody>\n",
       "    <tr>\n",
       "      <th>0</th>\n",
       "      <td>0</td>\n",
       "      <td>0</td>\n",
       "      <td>0</td>\n",
       "      <td>0</td>\n",
       "      <td>0</td>\n",
       "      <td>0</td>\n",
       "      <td>0</td>\n",
       "      <td>0</td>\n",
       "      <td>0</td>\n",
       "      <td>0</td>\n",
       "      <td>...</td>\n",
       "      <td>0</td>\n",
       "      <td>0</td>\n",
       "      <td>0</td>\n",
       "      <td>0</td>\n",
       "      <td>0</td>\n",
       "      <td>0</td>\n",
       "      <td>0</td>\n",
       "      <td>0</td>\n",
       "      <td>0</td>\n",
       "      <td>0</td>\n",
       "    </tr>\n",
       "    <tr>\n",
       "      <th>1</th>\n",
       "      <td>0</td>\n",
       "      <td>0</td>\n",
       "      <td>0</td>\n",
       "      <td>0</td>\n",
       "      <td>0</td>\n",
       "      <td>0</td>\n",
       "      <td>0</td>\n",
       "      <td>0</td>\n",
       "      <td>0</td>\n",
       "      <td>0</td>\n",
       "      <td>...</td>\n",
       "      <td>0</td>\n",
       "      <td>0</td>\n",
       "      <td>0</td>\n",
       "      <td>0</td>\n",
       "      <td>0</td>\n",
       "      <td>0</td>\n",
       "      <td>0</td>\n",
       "      <td>0</td>\n",
       "      <td>0</td>\n",
       "      <td>0</td>\n",
       "    </tr>\n",
       "    <tr>\n",
       "      <th>2</th>\n",
       "      <td>0</td>\n",
       "      <td>0</td>\n",
       "      <td>0</td>\n",
       "      <td>0</td>\n",
       "      <td>0</td>\n",
       "      <td>0</td>\n",
       "      <td>0</td>\n",
       "      <td>0</td>\n",
       "      <td>0</td>\n",
       "      <td>0</td>\n",
       "      <td>...</td>\n",
       "      <td>0</td>\n",
       "      <td>0</td>\n",
       "      <td>0</td>\n",
       "      <td>0</td>\n",
       "      <td>0</td>\n",
       "      <td>0</td>\n",
       "      <td>0</td>\n",
       "      <td>0</td>\n",
       "      <td>0</td>\n",
       "      <td>0</td>\n",
       "    </tr>\n",
       "    <tr>\n",
       "      <th>3</th>\n",
       "      <td>0</td>\n",
       "      <td>0</td>\n",
       "      <td>0</td>\n",
       "      <td>0</td>\n",
       "      <td>0</td>\n",
       "      <td>0</td>\n",
       "      <td>0</td>\n",
       "      <td>0</td>\n",
       "      <td>0</td>\n",
       "      <td>0</td>\n",
       "      <td>...</td>\n",
       "      <td>0</td>\n",
       "      <td>0</td>\n",
       "      <td>0</td>\n",
       "      <td>0</td>\n",
       "      <td>0</td>\n",
       "      <td>0</td>\n",
       "      <td>0</td>\n",
       "      <td>0</td>\n",
       "      <td>0</td>\n",
       "      <td>0</td>\n",
       "    </tr>\n",
       "    <tr>\n",
       "      <th>4</th>\n",
       "      <td>0</td>\n",
       "      <td>0</td>\n",
       "      <td>0</td>\n",
       "      <td>0</td>\n",
       "      <td>0</td>\n",
       "      <td>0</td>\n",
       "      <td>0</td>\n",
       "      <td>0</td>\n",
       "      <td>0</td>\n",
       "      <td>0</td>\n",
       "      <td>...</td>\n",
       "      <td>0</td>\n",
       "      <td>0</td>\n",
       "      <td>0</td>\n",
       "      <td>0</td>\n",
       "      <td>0</td>\n",
       "      <td>0</td>\n",
       "      <td>0</td>\n",
       "      <td>0</td>\n",
       "      <td>0</td>\n",
       "      <td>0</td>\n",
       "    </tr>\n",
       "    <tr>\n",
       "      <th>5</th>\n",
       "      <td>0</td>\n",
       "      <td>0</td>\n",
       "      <td>0</td>\n",
       "      <td>0</td>\n",
       "      <td>0</td>\n",
       "      <td>0</td>\n",
       "      <td>0</td>\n",
       "      <td>0</td>\n",
       "      <td>0</td>\n",
       "      <td>0</td>\n",
       "      <td>...</td>\n",
       "      <td>0</td>\n",
       "      <td>0</td>\n",
       "      <td>0</td>\n",
       "      <td>0</td>\n",
       "      <td>0</td>\n",
       "      <td>0</td>\n",
       "      <td>0</td>\n",
       "      <td>0</td>\n",
       "      <td>0</td>\n",
       "      <td>0</td>\n",
       "    </tr>\n",
       "    <tr>\n",
       "      <th>6</th>\n",
       "      <td>0</td>\n",
       "      <td>0</td>\n",
       "      <td>0</td>\n",
       "      <td>0</td>\n",
       "      <td>0</td>\n",
       "      <td>0</td>\n",
       "      <td>0</td>\n",
       "      <td>0</td>\n",
       "      <td>0</td>\n",
       "      <td>0</td>\n",
       "      <td>...</td>\n",
       "      <td>0</td>\n",
       "      <td>0</td>\n",
       "      <td>0</td>\n",
       "      <td>0</td>\n",
       "      <td>0</td>\n",
       "      <td>0</td>\n",
       "      <td>0</td>\n",
       "      <td>0</td>\n",
       "      <td>0</td>\n",
       "      <td>0</td>\n",
       "    </tr>\n",
       "    <tr>\n",
       "      <th>7</th>\n",
       "      <td>0</td>\n",
       "      <td>0</td>\n",
       "      <td>0</td>\n",
       "      <td>0</td>\n",
       "      <td>0</td>\n",
       "      <td>0</td>\n",
       "      <td>0</td>\n",
       "      <td>0</td>\n",
       "      <td>0</td>\n",
       "      <td>0</td>\n",
       "      <td>...</td>\n",
       "      <td>0</td>\n",
       "      <td>0</td>\n",
       "      <td>0</td>\n",
       "      <td>0</td>\n",
       "      <td>0</td>\n",
       "      <td>0</td>\n",
       "      <td>0</td>\n",
       "      <td>0</td>\n",
       "      <td>0</td>\n",
       "      <td>0</td>\n",
       "    </tr>\n",
       "    <tr>\n",
       "      <th>8</th>\n",
       "      <td>0</td>\n",
       "      <td>0</td>\n",
       "      <td>0</td>\n",
       "      <td>0</td>\n",
       "      <td>0</td>\n",
       "      <td>0</td>\n",
       "      <td>0</td>\n",
       "      <td>0</td>\n",
       "      <td>0</td>\n",
       "      <td>0</td>\n",
       "      <td>...</td>\n",
       "      <td>0</td>\n",
       "      <td>0</td>\n",
       "      <td>0</td>\n",
       "      <td>0</td>\n",
       "      <td>0</td>\n",
       "      <td>0</td>\n",
       "      <td>0</td>\n",
       "      <td>0</td>\n",
       "      <td>0</td>\n",
       "      <td>0</td>\n",
       "    </tr>\n",
       "    <tr>\n",
       "      <th>9</th>\n",
       "      <td>0</td>\n",
       "      <td>0</td>\n",
       "      <td>0</td>\n",
       "      <td>0</td>\n",
       "      <td>0</td>\n",
       "      <td>0</td>\n",
       "      <td>0</td>\n",
       "      <td>0</td>\n",
       "      <td>0</td>\n",
       "      <td>0</td>\n",
       "      <td>...</td>\n",
       "      <td>0</td>\n",
       "      <td>0</td>\n",
       "      <td>0</td>\n",
       "      <td>0</td>\n",
       "      <td>0</td>\n",
       "      <td>0</td>\n",
       "      <td>0</td>\n",
       "      <td>0</td>\n",
       "      <td>0</td>\n",
       "      <td>0</td>\n",
       "    </tr>\n",
       "  </tbody>\n",
       "</table>\n",
       "<p>10 rows × 6714 columns</p>\n",
       "</div>"
      ],
      "text/plain": [
       "   (    oz.) tomato sauce  (   oz.) tomato paste  \\\n",
       "0                       0                      0   \n",
       "1                       0                      0   \n",
       "2                       0                      0   \n",
       "3                       0                      0   \n",
       "4                       0                      0   \n",
       "5                       0                      0   \n",
       "6                       0                      0   \n",
       "7                       0                      0   \n",
       "8                       0                      0   \n",
       "9                       0                      0   \n",
       "\n",
       "   (10 oz.) frozen chopped spinach  \\\n",
       "0                                0   \n",
       "1                                0   \n",
       "2                                0   \n",
       "3                                0   \n",
       "4                                0   \n",
       "5                                0   \n",
       "6                                0   \n",
       "7                                0   \n",
       "8                                0   \n",
       "9                                0   \n",
       "\n",
       "   (10 oz.) frozen chopped spinach, thawed and squeezed dry  \\\n",
       "0                                                  0          \n",
       "1                                                  0          \n",
       "2                                                  0          \n",
       "3                                                  0          \n",
       "4                                                  0          \n",
       "5                                                  0          \n",
       "6                                                  0          \n",
       "7                                                  0          \n",
       "8                                                  0          \n",
       "9                                                  0          \n",
       "\n",
       "   (14 oz.) sweetened condensed milk  (14.5 oz.) diced tomatoes  \\\n",
       "0                                  0                          0   \n",
       "1                                  0                          0   \n",
       "2                                  0                          0   \n",
       "3                                  0                          0   \n",
       "4                                  0                          0   \n",
       "5                                  0                          0   \n",
       "6                                  0                          0   \n",
       "7                                  0                          0   \n",
       "8                                  0                          0   \n",
       "9                                  0                          0   \n",
       "\n",
       "   (15 oz.) refried beans  1% low-fat buttermilk  1% low-fat chocolate milk  \\\n",
       "0                       0                      0                          0   \n",
       "1                       0                      0                          0   \n",
       "2                       0                      0                          0   \n",
       "3                       0                      0                          0   \n",
       "4                       0                      0                          0   \n",
       "5                       0                      0                          0   \n",
       "6                       0                      0                          0   \n",
       "7                       0                      0                          0   \n",
       "8                       0                      0                          0   \n",
       "9                       0                      0                          0   \n",
       "\n",
       "   1% low-fat cottage cheese        ...          yukon gold potatoes  yuzu  \\\n",
       "0                          0        ...                            0     0   \n",
       "1                          0        ...                            0     0   \n",
       "2                          0        ...                            0     0   \n",
       "3                          0        ...                            0     0   \n",
       "4                          0        ...                            0     0   \n",
       "5                          0        ...                            0     0   \n",
       "6                          0        ...                            0     0   \n",
       "7                          0        ...                            0     0   \n",
       "8                          0        ...                            0     0   \n",
       "9                          0        ...                            0     0   \n",
       "\n",
       "   yuzu juice  za'atar  zest  zesty italian dressing  zinfandel  ziti  \\\n",
       "0           0        0     0                       0          0     0   \n",
       "1           0        0     0                       0          0     0   \n",
       "2           0        0     0                       0          0     0   \n",
       "3           0        0     0                       0          0     0   \n",
       "4           0        0     0                       0          0     0   \n",
       "5           0        0     0                       0          0     0   \n",
       "6           0        0     0                       0          0     0   \n",
       "7           0        0     0                       0          0     0   \n",
       "8           0        0     0                       0          0     0   \n",
       "9           0        0     0                       0          0     0   \n",
       "\n",
       "   zucchini  zucchini blossoms  \n",
       "0         0                  0  \n",
       "1         0                  0  \n",
       "2         0                  0  \n",
       "3         0                  0  \n",
       "4         0                  0  \n",
       "5         0                  0  \n",
       "6         0                  0  \n",
       "7         0                  0  \n",
       "8         0                  0  \n",
       "9         0                  0  \n",
       "\n",
       "[10 rows x 6714 columns]"
      ]
     },
     "execution_count": 5,
     "metadata": {},
     "output_type": "execute_result"
    }
   ],
   "source": [
    "# citation for ingredient_matrix: \n",
    "# https://stackoverflow.com/questions/18889588/create-dummies-from-column-with-multiple-values-in-pandas\n",
    "\n",
    "ingredient_list = list(ingredient_matrix.columns.values)\n",
    "print(ingredient_matrix.shape)\n",
    "ingredient_matrix.head(n=10)"
   ]
  },
  {
   "cell_type": "code",
   "execution_count": 126,
   "metadata": {},
   "outputs": [
    {
     "name": "stdout",
     "output_type": "stream",
     "text": [
      "[0.37901644290239855, 0.38293860310755767, 0.37758334590435966]\n"
     ]
    },
    {
     "data": {
      "text/plain": [
       "0.37984613063810529"
      ]
     },
     "execution_count": 126,
     "metadata": {},
     "output_type": "execute_result"
    }
   ],
   "source": [
    "# 1.(d) Using Naive Bayes Classifier to perfroma 3 fold cross-validation on the training set \n",
    "# report average classification accuracy\n",
    "from sklearn import cross_validation\n",
    "from sklearn.naive_bayes import GaussianNB,BernoulliNB\n",
    "clf_G = GaussianNB()\n",
    "clf_B = BernoulliNB()\n",
    "#(a) Gaussian distribution\\\\\n",
    "\n",
    "from sklearn.cross_validation import KFold\n",
    "def evaluate(X,Y):\n",
    "    kf =KFold(len(Y), n_folds=3)\n",
    "    accu=0.0\n",
    "    sub_accu_list=[]\n",
    "    for train_indices, test_indices in kf:\n",
    "        X_train = X[train_indices,:]\n",
    "        Y_train = Y[train_indices]\n",
    "        X_test = X[test_indices,:]\n",
    "        Y_test = Y[test_indices]\n",
    "        subaccu = clf_G.fit(X_train,Y_train).score(X_test,Y_test)\n",
    "        sub_accu_list.append(subaccu)\n",
    "        accu+=subaccu\n",
    "    print(sub_accu_list)\n",
    "    return accu/3.0\n",
    "evaluate(ingredient_matrix.values,train['cuisine'])\n"
   ]
  },
  {
   "cell_type": "code",
   "execution_count": 127,
   "metadata": {},
   "outputs": [
    {
     "name": "stdout",
     "output_type": "stream",
     "text": [
      "[0.68419067732689698, 0.67951425554382261, 0.68690601900739179]\n"
     ]
    },
    {
     "data": {
      "text/plain": [
       "0.68353698395937046"
      ]
     },
     "execution_count": 127,
     "metadata": {},
     "output_type": "execute_result"
    }
   ],
   "source": [
    "#(b) Bernoulli distribution\n",
    "def evaluateB(X,Y):\n",
    "    kf =KFold(len(Y), n_folds=3)\n",
    "    accu=0.0\n",
    "    sub_accu_list=[]\n",
    "    for train_indices, test_indices in kf:\n",
    "        X_train = X[train_indices,:]\n",
    "        Y_train = Y[train_indices]\n",
    "        X_test = X[test_indices,:]\n",
    "        Y_test = Y[test_indices]\n",
    "        subaccu = clf_B.fit(X_train,Y_train).score(X_test,Y_test)\n",
    "        sub_accu_list.append(subaccu)\n",
    "        accu+=subaccu\n",
    "    print(sub_accu_list)\n",
    "    return accu/3.0\n",
    "evaluateB(ingredient_matrix.values,train['cuisine'])"
   ]
  },
  {
   "cell_type": "code",
   "execution_count": 128,
   "metadata": {},
   "outputs": [
    {
     "name": "stdout",
     "output_type": "stream",
     "text": [
      "[0.77583345904359635, 0.77213757731181176, 0.77869965303967414]\n"
     ]
    },
    {
     "data": {
      "text/plain": [
       "0.77555689646502746"
      ]
     },
     "execution_count": 128,
     "metadata": {},
     "output_type": "execute_result"
    }
   ],
   "source": [
    "# 1. (f) Using logistic regression performa 3 fold cross validation on training\n",
    "# average classification accuracy\n",
    "from sklearn.linear_model import LogisticRegression\n",
    "ls = LogisticRegression()\n",
    "def evaluateLogistic(X,Y):\n",
    "    kf =KFold(len(Y), n_folds=3)\n",
    "    accu=0.0\n",
    "    sub_accu_list=[]\n",
    "    for train_indices, test_indices in kf:\n",
    "        X_train = X[train_indices,:]\n",
    "        Y_train = Y[train_indices]\n",
    "        X_test = X[test_indices,:]\n",
    "        Y_test = Y[test_indices]\n",
    "        subaccu = ls.fit(X_train,Y_train).score(X_test,Y_test)\n",
    "        sub_accu_list.append(subaccu)\n",
    "        accu+=subaccu\n",
    "    print(sub_accu_list)\n",
    "    return accu/3.0\n",
    "evaluateLogistic(ingredient_matrix.values,train['cuisine'])"
   ]
  },
  {
   "cell_type": "code",
   "execution_count": 221,
   "metadata": {
    "collapsed": true
   },
   "outputs": [],
   "source": [
    "# 1.(g) Train your best-performed classifier with all of the training data,\n",
    "# and generate test labels on test set. Submit your result to kaggle and report accuracy"
   ]
  },
  {
   "cell_type": "code",
   "execution_count": 6,
   "metadata": {},
   "outputs": [],
   "source": [
    "ingredient_matrix_test = np.zeros((len(test),len(ingredient_list)),dtype=np.int)\n",
    "\n",
    "for i in range(0,len(test)):\n",
    "    for j in range(0,len(test.values[i][1])):\n",
    "        if test.values[i][1][j] in ingredient_list:\n",
    "            pos = ingredient_list.index(test.values[i][1][j])\n",
    "            ingredient_matrix_test[i][pos]=1 "
   ]
  },
  {
   "cell_type": "code",
   "execution_count": 15,
   "metadata": {},
   "outputs": [
    {
     "name": "stdout",
     "output_type": "stream",
     "text": [
      "(9944, 6714)\n"
     ]
    },
    {
     "data": {
      "text/plain": [
       "array([[0, 0, 0, ..., 0, 0, 0],\n",
       "       [0, 0, 0, ..., 0, 0, 0],\n",
       "       [0, 0, 0, ..., 0, 0, 0],\n",
       "       ..., \n",
       "       [0, 0, 0, ..., 0, 0, 0],\n",
       "       [0, 0, 0, ..., 0, 0, 0],\n",
       "       [0, 0, 0, ..., 0, 0, 0]])"
      ]
     },
     "execution_count": 15,
     "metadata": {},
     "output_type": "execute_result"
    }
   ],
   "source": [
    "print(ingredient_matrix_test.shape)\n",
    "ingredient_matrix_test[:10]"
   ]
  },
  {
   "cell_type": "code",
   "execution_count": 273,
   "metadata": {
    "collapsed": true
   },
   "outputs": [],
   "source": [
    "y_hat_test = ls.fit(ingredient_matrix,train['cuisine']).predict(ingredient_matrix_test)\n",
    "y_hat_res=pd.DataFrame(y_hat_test)\n",
    "y_hat_res.to_csv('/Users/yingzhu/Desktop/dish_test_res.csv', index=False, header=False)"
   ]
  },
  {
   "cell_type": "code",
   "execution_count": 274,
   "metadata": {
    "collapsed": true
   },
   "outputs": [],
   "source": [
    "test['id'].to_csv('/Users/yingzhu/Desktop/dish_test_res1.csv', index=False, header=False)"
   ]
  },
  {
   "cell_type": "code",
   "execution_count": null,
   "metadata": {
    "collapsed": true
   },
   "outputs": [],
   "source": []
  }
 ],
 "metadata": {
  "kernelspec": {
   "display_name": "Python 3",
   "language": "python",
   "name": "python3"
  },
  "language_info": {
   "codemirror_mode": {
    "name": "ipython",
    "version": 3
   },
   "file_extension": ".py",
   "mimetype": "text/x-python",
   "name": "python",
   "nbconvert_exporter": "python",
   "pygments_lexer": "ipython3",
   "version": "3.6.1"
  }
 },
 "nbformat": 4,
 "nbformat_minor": 2
}
