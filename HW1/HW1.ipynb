{
 "cells": [
  {
   "cell_type": "code",
   "execution_count": 1,
   "metadata": {
    "collapsed": true
   },
   "outputs": [],
   "source": [
    "import numpy\n",
    "data = numpy.loadtxt('/Users/yingzhu/Desktop/train.csv', delimiter=',', skiprows=1)"
   ]
  },
  {
   "cell_type": "code",
   "execution_count": 24,
   "metadata": {},
   "outputs": [
    {
     "name": "stdout",
     "output_type": "stream",
     "text": [
      "(42000, 785)\n",
      "785\n"
     ]
    }
   ],
   "source": [
    "print(data.shape)\n",
    "print(data[0].size)"
   ]
  },
  {
   "cell_type": "code",
   "execution_count": 2,
   "metadata": {
    "collapsed": true
   },
   "outputs": [],
   "source": [
    "label=data[:,0]"
   ]
  },
  {
   "cell_type": "code",
   "execution_count": 5,
   "metadata": {},
   "outputs": [
    {
     "data": {
      "image/png": "[encoded data removed]",
      "text/plain": [
       "<matplotlib.figure.Figure at 0x13ad4ee80>"
      ]
     },
     "metadata": {},
     "output_type": "display_data"
    }
   ],
   "source": [
    "import matplotlib.pyplot as plt\n",
    "label = data[:,0]\n",
    "reshape=[]\n",
    "fig = plt.figure()\n",
    "for i in range(10):\n",
    "    for j in range(len(data)):\n",
    "        if(label[j]==i):\n",
    "            tar = data[j,:][1:]\n",
    "            reshape.append(tar.reshape(28,28))\n",
    "            break;\n",
    "plt.subplot(251)\n",
    "plt.imshow(reshape[0], cmap='pink')\n",
    "plt.subplot(252)\n",
    "plt.imshow(reshape[1], cmap='pink')\n",
    "plt.subplot(253)\n",
    "plt.imshow(reshape[2], cmap='pink')\n",
    "plt.subplot(254)\n",
    "plt.imshow(reshape[3], cmap='pink')\n",
    "plt.subplot(255)\n",
    "plt.imshow(reshape[4], cmap='pink')\n",
    "plt.subplot(256)\n",
    "plt.imshow(reshape[5], cmap='pink')\n",
    "plt.subplot(257)\n",
    "plt.imshow(reshape[6], cmap='pink')\n",
    "plt.subplot(258)\n",
    "plt.imshow(reshape[7], cmap='pink')\n",
    "plt.subplot(259)\n",
    "plt.imshow(reshape[8], cmap='pink')\n",
    "plt.subplot(2,5,10)\n",
    "plt.imshow(reshape[9], cmap='pink')\n",
    "plt.show()"
   ]
  },
  {
   "cell_type": "code",
   "execution_count": 6,
   "metadata": {},
   "outputs": [
    {
     "data": {
      "image/png": "[encoded data removed]",
      "text/plain": [
       "<matplotlib.figure.Figure at 0x107b48d68>"
      ]
     },
     "metadata": {},
     "output_type": "display_data"
    }
   ],
   "source": [
    "cnt_record=[0]*10\n",
    "for i in range(10):\n",
    "    for j in range(len(data)):\n",
    "        if(label[j]==i):\n",
    "            cnt_record[i]=cnt_record[i]+1\n",
    "    cnt_record[i]=cnt_record[i]/len(data)\n",
    "plt.bar([i for i in range(0,10)],cnt_record)\n",
    "plt.show()"
   ]
  },
  {
   "cell_type": "code",
   "execution_count": 13,
   "metadata": {},
   "outputs": [
    {
     "name": "stdout",
     "output_type": "stream",
     "text": [
      "[stdout:0] Hello world\n",
      "[stdout:1] Hello world\n"
     ]
    }
   ],
   "source": [
    "# try for multi engine parallel computing\n",
    "from IPython import parallel\n",
    "rc = parallel.Client()\n",
    "lv = rc.load_balanced_view()\n",
    "print (len(lv))\n",
    "\n",
    "# ipcontroller --profile=default\n",
    "# ipengine --profile=default\n",
    "%%px\n",
    "print(\"Hello world\")"
   ]
  },
  {
   "cell_type": "code",
   "execution_count": 8,
   "metadata": {},
   "outputs": [],
   "source": [
    "from scipy.spatial.distance import cdist\n",
    "\n",
    "sample_digit =[]\n",
    "for i in range(10):\n",
    "    for j in range(len(data)):\n",
    "        if(label[j]==i):\n",
    "            sample_digit.append(j)\n",
    "            break"
   ]
  },
  {
   "cell_type": "code",
   "execution_count": 14,
   "metadata": {
    "collapsed": true
   },
   "outputs": [],
   "source": [
    "def distances_between(i,j):\n",
    "    temp=data[i,1:]-data[j,1:]\n",
    "    return (temp*temp).sum()"
   ]
  },
  {
   "cell_type": "code",
   "execution_count": 18,
   "metadata": {},
   "outputs": [],
   "source": [
    "knn1_index = []\n",
    "knn1_label=[]\n",
    "for i in sample_digit:\n",
    "    min_index = i+1\n",
    "    min = distances_between(i+1,i)\n",
    "    for j in range(len(data)):\n",
    "            if(distances_between(j,i)<min and j!=i):\n",
    "                min_index= j\n",
    "                min = distances_between(i,j)\n",
    "    knn1_index.append(min_index)\n",
    "    knn1_label.append(label[min_index])"
   ]
  },
  {
   "cell_type": "code",
   "execution_count": 19,
   "metadata": {},
   "outputs": [
    {
     "name": "stdout",
     "output_type": "stream",
     "text": [
      "[12950, 29704, 9536, 8981, 14787, 30073, 16240, 15275, 32586, 35742]\n",
      "[0.0, 1.0, 2.0, 5.0, 4.0, 5.0, 6.0, 7.0, 8.0, 9.0]\n"
     ]
    }
   ],
   "source": [
    "print(knn1_index)\n",
    "print(knn1_label)"
   ]
  },
  {
   "cell_type": "code",
   "execution_count": 22,
   "metadata": {
    "collapsed": true
   },
   "outputs": [],
   "source": [
    "## 1(e)\n",
    "label0=[]\n",
    "label1=[]\n",
    "for i in range(len(label)):\n",
    "    if(label[i]==0):\n",
    "        label0.append(i)\n",
    "    if(label[i]==1):\n",
    "        label1.append(i)\n",
    "print(len(label0))\n",
    "print(len(label1))"
   ]
  },
  {
   "cell_type": "code",
   "execution_count": 45,
   "metadata": {},
   "outputs": [
    {
     "name": "stdout",
     "output_type": "stream",
     "text": [
      "4132\n",
      "4684\n",
      "(4132, 4132)\n",
      "(4684, 4684)\n",
      "(4684, 4132)\n"
     ]
    }
   ],
   "source": [
    "# decalre label1 and label0 as vector\n",
    "label_0 = [data[x,1:] for x in label0]\n",
    "label_1 = [data[x,1:] for x in label1]\n",
    "label_00_dist= cdist(label_0,label_0)\n",
    "label_11_dist=cdist(label_1,label_1)\n",
    "label_10_dist=cdist(label_1,label_0)\n",
    "print(label_00_dist.shape)\n",
    "print(label_11_dist.shape)\n",
    "print(label_10_dist.shape)"
   ]
  },
  {
   "cell_type": "code",
   "execution_count": 47,
   "metadata": {},
   "outputs": [
    {
     "name": "stdout",
     "output_type": "stream",
     "text": [
      "8538778\n",
      "10972270\n"
     ]
    }
   ],
   "source": [
    "label00_dist=list(label_00_dist[numpy.triu_indices(4132)])\n",
    "print(len(label00_dist))\n",
    "label11_dist=list(label_11_dist[numpy.triu_indices(4684)])\n",
    "print(len(label11_dist))"
   ]
  },
  {
   "cell_type": "code",
   "execution_count": 80,
   "metadata": {},
   "outputs": [
    {
     "name": "stdout",
     "output_type": "stream",
     "text": [
      "19354288\n"
     ]
    }
   ],
   "source": [
    "label10_dist = numpy.reshape(label_10_dist, (numpy.product(label_10_dist.shape),))\n",
    "print(len(label10_dist))"
   ]
  },
  {
   "cell_type": "code",
   "execution_count": 81,
   "metadata": {},
   "outputs": [
    {
     "data": {
      "image/png": "[encoded data removed]",
      "text/plain": [
       "<matplotlib.figure.Figure at 0x12d6cfac8>"
      ]
     },
     "metadata": {},
     "output_type": "display_data"
    }
   ],
   "source": [
    "plt.hist(label00_dist+label11_dist,alpha=0.3,bins=10)\n",
    "plt.hist(label10_dist,alpha=0.3,bins=10)\n",
    "plt.ylim([0,10000000])\n",
    "plt.show()"
   ]
  },
  {
   "cell_type": "code",
   "execution_count": 410,
   "metadata": {},
   "outputs": [
    {
     "name": "stdout",
     "output_type": "stream",
     "text": [
      "0.8178076851638107 0.19198603430929623\n"
     ]
    },
    {
     "data": {
      "image/png": "[encoded data removed]",
      "text/plain": [
       "<matplotlib.figure.Figure at 0x10cd65da0>"
      ]
     },
     "metadata": {},
     "output_type": "display_data"
    }
   ],
   "source": [
    "TP = []\n",
    "FP = []\n",
    "genuine_dist = label00_dist+label11_dist\n",
    "impostor_dist = label10_dist\n",
    "for cutoff in range(200,4000,40):\n",
    "        tpnew = len([x for x in genuine_dist if x < cutoff])/float(len(genuine_dist))\n",
    "        fpnew = len([x for x in impostor_dist if x < cutoff])/float(len(impostor_dist))\n",
    "        if abs(tpnew-(-fpnew+1))<=0.01:\n",
    "            print(tpnew,fpnew)\n",
    "        TP.append(tpnew)\n",
    "        FP.append(fpnew)\n",
    "plt.plot(FP,TP,'ro')\n",
    "plt.show()"
   ]
  },
  {
   "cell_type": "code",
   "execution_count": 344,
   "metadata": {},
   "outputs": [],
   "source": [
    "# 1(g) K-NN classifier\n",
    "def knn_classifier(x_train,y_train,x_test,k):\n",
    "    dist = cdist(x_test,x_train)\n",
    "    sort_index = dist.argsort()[0:len(x_test),0:k]\n",
    "    y_hat=[]\n",
    "    for i in range(len(x_test)):\n",
    "        level_hat=[]\n",
    "        for j in sort_index[i]:\n",
    "            level_hat.append(y_train[j])\n",
    "        ylevel_hat = max(set(level_hat), key=level_hat.count)\n",
    "        y_hat.append(ylevel_hat)\n",
    "    return y_hat"
   ]
  },
  {
   "cell_type": "code",
   "execution_count": 371,
   "metadata": {
    "collapsed": true
   },
   "outputs": [],
   "source": [
    "#1(h) calculate average accuracy\n",
    "def accuracy(y_hat,y_test):\n",
    "    right_result =0\n",
    "    for i in range(len(y_hat)):\n",
    "        if(y_hat[i]==y_test[i]):\n",
    "            right_result+=1;\n",
    "    return float(right_result/len(y_test))"
   ]
  },
  {
   "cell_type": "code",
   "execution_count": 394,
   "metadata": {
    "collapsed": true
   },
   "outputs": [],
   "source": [
    "# 1(h) 3 fold cross_validation on K-NN classifier\n",
    "from sklearn.cross_validation import KFold\n",
    "def evaluate(X,Y):\n",
    "    kf =KFold(len(Y), n_folds=3)\n",
    "    accu=0.0\n",
    "    sub_accu_list=[]\n",
    "    for train_indices, test_indices in kf:\n",
    "        X_train = X[train_indices]\n",
    "        Y_train = Y[train_indices]\n",
    "        X_test = X[test_indices]\n",
    "        Y_test = Y[test_indices]\n",
    "        y_hat =knn_classifier(X_train,Y_train,X_test,5)\n",
    "        subaccu =accuracy(y_hat,Y_test)\n",
    "        sub_accu_list.append(subaccu)\n",
    "        accu+=subaccu\n",
    "    print(sub_accu_list)\n",
    "    return accu/3.0"
   ]
  },
  {
   "cell_type": "code",
   "execution_count": 405,
   "metadata": {},
   "outputs": [
    {
     "name": "stdout",
     "output_type": "stream",
     "text": [
      "[0.966, 0.9645714285714285, 0.9660714285714286]\n",
      "0.965547619047619\n"
     ]
    }
   ],
   "source": [
    "\n",
    "res = evaluate(data[:,1:],data[:,0])\n",
    "print(res)"
   ]
  },
  {
   "cell_type": "code",
   "execution_count": 406,
   "metadata": {},
   "outputs": [
    {
     "data": {
      "text/plain": [
       "array([[1011,    0,    0,    0,    0,    2,    1,    0,    0,    0],\n",
       "       [   0, 1160,    3,    0,    0,    0,    1,    2,    0,    1],\n",
       "       [  11,   13, 1008,    2,    0,    0,    4,   26,    3,    1],\n",
       "       [   2,    5,    6, 1015,    0,    9,    1,    2,    7,    2],\n",
       "       [   1,    7,    0,    0,  985,    0,    2,    0,    0,   33],\n",
       "       [   6,    2,    0,   22,    2,  934,   13,    1,    1,   11],\n",
       "       [   6,    1,    0,    0,    0,    2, 1027,    0,    1,    0],\n",
       "       [   0,   10,    4,    0,    2,    0,    0, 1083,    0,    8],\n",
       "       [   3,   12,    4,   14,    2,   14,    5,    1,  956,   15],\n",
       "       [   6,    0,    2,    7,   13,    3,    0,    8,    5,  968]])"
      ]
     },
     "execution_count": 406,
     "metadata": {},
     "output_type": "execute_result"
    }
   ],
   "source": [
    "# confudion matrix\n",
    "from sklearn.metrics import confusion_matrix\n",
    "X= data[:,1:]\n",
    "Y= data[:,0]\n",
    "x_train,x_test,y_train,y_test = cross_validation.train_test_split(X,Y)\n",
    "y_pred=knn_classifier(x_train,y_train,x_test,5)\n",
    "y_true = y_test\n",
    "confusion_matrix(y_true, y_pred, labels=[0, 1, 2, 3, 4, 5, 6, 7, 8, 9])"
   ]
  },
  {
   "cell_type": "code",
   "execution_count": 411,
   "metadata": {
    "collapsed": true
   },
   "outputs": [],
   "source": [
    "# train classifer with all of the training data and test classifer with test data\n",
    "import numpy\n",
    "test_data = numpy.loadtxt('/Users/yingzhu/Desktop/test.csv', delimiter=',', skiprows=1)"
   ]
  },
  {
   "cell_type": "code",
   "execution_count": 415,
   "metadata": {},
   "outputs": [
    {
     "ename": "NameError",
     "evalue": "name 'y_hat' is not defined",
     "output_type": "error",
     "traceback": [
      "\u001b[0;31m---------------------------------------------------------------------------\u001b[0m",
      "\u001b[0;31mNameError\u001b[0m                                 Traceback (most recent call last)",
      "\u001b[0;32m<ipython-input-415-a6398fdc2817>\u001b[0m in \u001b[0;36m<module>\u001b[0;34m()\u001b[0m\n\u001b[1;32m      2\u001b[0m \u001b[0;32mimport\u001b[0m \u001b[0mpandas\u001b[0m \u001b[0;32mas\u001b[0m \u001b[0mpd\u001b[0m\u001b[0;34m\u001b[0m\u001b[0m\n\u001b[1;32m      3\u001b[0m \u001b[0my_hat_test\u001b[0m \u001b[0;34m=\u001b[0m \u001b[0mknn_classifier\u001b[0m\u001b[0;34m(\u001b[0m\u001b[0mX\u001b[0m\u001b[0;34m,\u001b[0m\u001b[0mY\u001b[0m\u001b[0;34m,\u001b[0m\u001b[0mtest_data\u001b[0m\u001b[0;34m,\u001b[0m\u001b[0;36m5\u001b[0m\u001b[0;34m)\u001b[0m\u001b[0;34m\u001b[0m\u001b[0m\n\u001b[0;32m----> 4\u001b[0;31m \u001b[0my_hat\u001b[0m\u001b[0;34m.\u001b[0m\u001b[0mto_csv\u001b[0m\u001b[0;34m(\u001b[0m\u001b[0;34m'/Users/yingzhu/Desktop/test_res.csv'\u001b[0m\u001b[0;34m,\u001b[0m \u001b[0mindex\u001b[0m\u001b[0;34m=\u001b[0m\u001b[0;32mFalse\u001b[0m\u001b[0;34m,\u001b[0m \u001b[0mheader\u001b[0m\u001b[0;34m=\u001b[0m\u001b[0;32mFalse\u001b[0m\u001b[0;34m)\u001b[0m\u001b[0;34m\u001b[0m\u001b[0m\n\u001b[0m",
      "\u001b[0;31mNameError\u001b[0m: name 'y_hat' is not defined"
     ]
    }
   ],
   "source": [
    "# train the classifer with all of the trainning data\n",
    "import pandas as pd\n",
    "y_hat_test = knn_classifier(X,Y,test_data,5)"
   ]
  },
  {
   "cell_type": "code",
   "execution_count": 418,
   "metadata": {},
   "outputs": [],
   "source": [
    "y_hat_res=pd.DataFrame(y_hat_test)\n",
    "y_hat_res.to_csv('/Users/yingzhu/Desktop/test_res.csv', index=False, header=False)"
   ]
  },
  {
   "cell_type": "code",
   "execution_count": null,
   "metadata": {
    "collapsed": true
   },
   "outputs": [],
   "source": []
  },
  {
   "cell_type": "code",
   "execution_count": null,
   "metadata": {
    "collapsed": true
   },
   "outputs": [],
   "source": []
  }
 ],
 "metadata": {
  "kernelspec": {
   "display_name": "Python 3",
   "language": "python",
   "name": "python3"
  },
  "language_info": {
   "codemirror_mode": {
    "name": "ipython",
    "version": 3
   },
   "file_extension": ".py",
   "mimetype": "text/x-python",
   "name": "python",
   "nbconvert_exporter": "python",
   "pygments_lexer": "ipython3",
   "version": "3.6.1"
  }
 },
 "nbformat": 4,
 "nbformat_minor": 1
}
